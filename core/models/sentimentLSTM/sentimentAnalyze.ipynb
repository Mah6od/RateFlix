{
  "cells": [
    {
      "cell_type": "code",
      "execution_count": 2,
      "metadata": {
        "id": "S8sRx50PLsq2"
      },
      "outputs": [],
      "source": [
        "import numpy as np\n",
        "import pandas as pd\n",
        "import torch\n",
        "import torch.nn as nn\n",
        "from nltk.corpus import stopwords\n",
        "from collections import Counter\n",
        "import re\n",
        "import seaborn as sns\n",
        "import matplotlib.pyplot as plt\n",
        "from torch.utils.data import TensorDataset, DataLoader\n",
        "import torchtext.vocab as vocab\n",
        "from sklearn.model_selection import train_test_split\n",
        "from sklearn.utils import resample"
      ]
    },
    {
      "cell_type": "code",
      "execution_count": null,
      "metadata": {
        "colab": {
          "base_uri": "https://localhost:8080/",
          "height": 390
        },
        "id": "jbBcMEunL1Ub",
        "outputId": "1b427c1a-c1ca-44d3-d733-4bad65226173"
      },
      "outputs": [],
      "source": [
        "# Install the Kaggle API package\n",
        "%pip install kaggle\n",
        "\n",
        "# Upload your Kaggle API key (you should have the kaggle.json file downloaded from Kaggle)\n",
        "from google.colab import files\n",
        "files.upload()  # Upload your Kaggle API key\n",
        "\n",
        "# Create a directory for the Kaggle API key\n",
        "%mkdir ~/.kaggle\n",
        "%cp kaggle.json ~/.kaggle/\n",
        "%chmod 600 ~/.kaggle/kaggle.json\n",
        "\n",
        "# Use the Kaggle API to download the dataset\n",
        "%kaggle datasets download -d talha002/rottentomatoes-400k-review\n"
      ]
    },
    {
      "cell_type": "code",
      "execution_count": 3,
      "metadata": {
        "colab": {
          "base_uri": "https://localhost:8080/"
        },
        "id": "0jG1RJguMGUN",
        "outputId": "51b63b25-931b-4585-fbb7-8318f0c47802"
      },
      "outputs": [
        {
          "name": "stdout",
          "output_type": "stream",
          "text": [
            "Archive:  rottentomatoes-400k-review.zip\n",
            "  inflating: rottentomatoes-400k.csv  \n"
          ]
        }
      ],
      "source": [
        "# Unzip the dataset\n",
        "!unzip rottentomatoes-400k-review.zip"
      ]
    },
    {
      "cell_type": "code",
      "execution_count": 9,
      "metadata": {
        "colab": {
          "base_uri": "https://localhost:8080/"
        },
        "id": "SfiDxOU3NBFW",
        "outputId": "97bb34d3-bae9-43c5-c868-7cebbb95a0ff"
      },
      "outputs": [],
      "source": [
        "# is_cuda = torch.cuda.is_available()\n",
        "\n",
        "# if is_cuda:\n",
        "#     device = torch.device(\"cuda\")\n",
        "#     print(\"GPU is available\")\n",
        "\n",
        "# else:\n",
        "#     device = torch.device(\"cpu\")\n",
        "#     print(\"GPU not available, CPU used\")\n",
        "\n",
        "device = torch.device('mps')"
      ]
    },
    {
      "cell_type": "code",
      "execution_count": 11,
      "metadata": {
        "colab": {
          "base_uri": "https://localhost:8080/",
          "height": 310
        },
        "id": "rEsDIIhxNGx8",
        "outputId": "aa7d8724-ed37-46c0-900c-ef3d7d5f041e"
      },
      "outputs": [
        {
          "data": {
            "text/html": [
              "<div>\n",
              "<style scoped>\n",
              "    .dataframe tbody tr th:only-of-type {\n",
              "        vertical-align: middle;\n",
              "    }\n",
              "\n",
              "    .dataframe tbody tr th {\n",
              "        vertical-align: top;\n",
              "    }\n",
              "\n",
              "    .dataframe thead th {\n",
              "        text-align: right;\n",
              "    }\n",
              "</style>\n",
              "<table border=\"1\" class=\"dataframe\">\n",
              "  <thead>\n",
              "    <tr style=\"text-align: right;\">\n",
              "      <th></th>\n",
              "      <th>Unnamed: 0</th>\n",
              "      <th>Movie</th>\n",
              "      <th>Reviewer</th>\n",
              "      <th>Publish</th>\n",
              "      <th>Review</th>\n",
              "      <th>Date</th>\n",
              "      <th>Score</th>\n",
              "    </tr>\n",
              "  </thead>\n",
              "  <tbody>\n",
              "    <tr>\n",
              "      <th>0</th>\n",
              "      <td>0</td>\n",
              "      <td>HOTEL TRANSYLVANIA: TRANSFORMANIA</td>\n",
              "      <td>James Luxford</td>\n",
              "      <td>City AM</td>\n",
              "      <td>I guess its always been hard for me to see the...</td>\n",
              "      <td>03/03/2022</td>\n",
              "      <td>40.0</td>\n",
              "    </tr>\n",
              "    <tr>\n",
              "      <th>1</th>\n",
              "      <td>1</td>\n",
              "      <td>HOTEL TRANSYLVANIA: TRANSFORMANIA</td>\n",
              "      <td>Mat Brunet</td>\n",
              "      <td>AniMat's Review (YouTube)</td>\n",
              "      <td>Hotel Transylvania: Transformania is a present...</td>\n",
              "      <td>15/02/2022</td>\n",
              "      <td>30.0</td>\n",
              "    </tr>\n",
              "    <tr>\n",
              "      <th>2</th>\n",
              "      <td>2</td>\n",
              "      <td>HOTEL TRANSYLVANIA: TRANSFORMANIA</td>\n",
              "      <td>Robert Levin</td>\n",
              "      <td>Newsday</td>\n",
              "      <td>The conceit still works well enough to mostly ...</td>\n",
              "      <td>29/01/2022</td>\n",
              "      <td>75.0</td>\n",
              "    </tr>\n",
              "    <tr>\n",
              "      <th>3</th>\n",
              "      <td>3</td>\n",
              "      <td>HOTEL TRANSYLVANIA: TRANSFORMANIA</td>\n",
              "      <td>Jackie K. Cooper</td>\n",
              "      <td>jackiekcooper.com</td>\n",
              "      <td>No Adam Sandler this time out, but the animate...</td>\n",
              "      <td>28/01/2022</td>\n",
              "      <td>60.0</td>\n",
              "    </tr>\n",
              "    <tr>\n",
              "      <th>4</th>\n",
              "      <td>4</td>\n",
              "      <td>HOTEL TRANSYLVANIA: TRANSFORMANIA</td>\n",
              "      <td>Asher Luberto</td>\n",
              "      <td>The Playlist</td>\n",
              "      <td>It's not likely we'll see another one of these...</td>\n",
              "      <td>28/01/2022</td>\n",
              "      <td>74.0</td>\n",
              "    </tr>\n",
              "  </tbody>\n",
              "</table>\n",
              "</div>"
            ],
            "text/plain": [
              "   Unnamed: 0                              Movie          Reviewer  \\\n",
              "0           0  HOTEL TRANSYLVANIA: TRANSFORMANIA     James Luxford   \n",
              "1           1  HOTEL TRANSYLVANIA: TRANSFORMANIA        Mat Brunet   \n",
              "2           2  HOTEL TRANSYLVANIA: TRANSFORMANIA      Robert Levin   \n",
              "3           3  HOTEL TRANSYLVANIA: TRANSFORMANIA  Jackie K. Cooper   \n",
              "4           4  HOTEL TRANSYLVANIA: TRANSFORMANIA     Asher Luberto   \n",
              "\n",
              "                     Publish  \\\n",
              "0                    City AM   \n",
              "1  AniMat's Review (YouTube)   \n",
              "2                    Newsday   \n",
              "3          jackiekcooper.com   \n",
              "4               The Playlist   \n",
              "\n",
              "                                              Review        Date  Score  \n",
              "0  I guess its always been hard for me to see the...  03/03/2022   40.0  \n",
              "1  Hotel Transylvania: Transformania is a present...  15/02/2022   30.0  \n",
              "2  The conceit still works well enough to mostly ...  29/01/2022   75.0  \n",
              "3  No Adam Sandler this time out, but the animate...  28/01/2022   60.0  \n",
              "4  It's not likely we'll see another one of these...  28/01/2022   74.0  "
            ]
          },
          "execution_count": 11,
          "metadata": {},
          "output_type": "execute_result"
        }
      ],
      "source": [
        "df = pd.read_csv(\"rottentomatoes-400k.csv\")\n",
        "df.head()"
      ]
    },
    {
      "cell_type": "code",
      "execution_count": 12,
      "metadata": {
        "colab": {
          "base_uri": "https://localhost:8080/",
          "height": 310
        },
        "id": "ril8g69jNPF-",
        "outputId": "e0f9ccfc-0faf-4792-cb24-43db181c14cb"
      },
      "outputs": [
        {
          "data": {
            "text/html": [
              "<div>\n",
              "<style scoped>\n",
              "    .dataframe tbody tr th:only-of-type {\n",
              "        vertical-align: middle;\n",
              "    }\n",
              "\n",
              "    .dataframe tbody tr th {\n",
              "        vertical-align: top;\n",
              "    }\n",
              "\n",
              "    .dataframe thead th {\n",
              "        text-align: right;\n",
              "    }\n",
              "</style>\n",
              "<table border=\"1\" class=\"dataframe\">\n",
              "  <thead>\n",
              "    <tr style=\"text-align: right;\">\n",
              "      <th></th>\n",
              "      <th>Unnamed: 0</th>\n",
              "      <th>Movie</th>\n",
              "      <th>Reviewer</th>\n",
              "      <th>Publish</th>\n",
              "      <th>Review</th>\n",
              "      <th>Date</th>\n",
              "      <th>Score</th>\n",
              "    </tr>\n",
              "  </thead>\n",
              "  <tbody>\n",
              "    <tr>\n",
              "      <th>0</th>\n",
              "      <td>0</td>\n",
              "      <td>HOTEL TRANSYLVANIA: TRANSFORMANIA</td>\n",
              "      <td>James Luxford</td>\n",
              "      <td>City AM</td>\n",
              "      <td>I guess its always been hard for me to see the...</td>\n",
              "      <td>03/03/2022</td>\n",
              "      <td>0.4</td>\n",
              "    </tr>\n",
              "    <tr>\n",
              "      <th>1</th>\n",
              "      <td>1</td>\n",
              "      <td>HOTEL TRANSYLVANIA: TRANSFORMANIA</td>\n",
              "      <td>Mat Brunet</td>\n",
              "      <td>AniMat's Review (YouTube)</td>\n",
              "      <td>Hotel Transylvania: Transformania is a present...</td>\n",
              "      <td>15/02/2022</td>\n",
              "      <td>0.3</td>\n",
              "    </tr>\n",
              "    <tr>\n",
              "      <th>2</th>\n",
              "      <td>2</td>\n",
              "      <td>HOTEL TRANSYLVANIA: TRANSFORMANIA</td>\n",
              "      <td>Robert Levin</td>\n",
              "      <td>Newsday</td>\n",
              "      <td>The conceit still works well enough to mostly ...</td>\n",
              "      <td>29/01/2022</td>\n",
              "      <td>0.8</td>\n",
              "    </tr>\n",
              "    <tr>\n",
              "      <th>3</th>\n",
              "      <td>3</td>\n",
              "      <td>HOTEL TRANSYLVANIA: TRANSFORMANIA</td>\n",
              "      <td>Jackie K. Cooper</td>\n",
              "      <td>jackiekcooper.com</td>\n",
              "      <td>No Adam Sandler this time out, but the animate...</td>\n",
              "      <td>28/01/2022</td>\n",
              "      <td>0.6</td>\n",
              "    </tr>\n",
              "    <tr>\n",
              "      <th>4</th>\n",
              "      <td>4</td>\n",
              "      <td>HOTEL TRANSYLVANIA: TRANSFORMANIA</td>\n",
              "      <td>Asher Luberto</td>\n",
              "      <td>The Playlist</td>\n",
              "      <td>It's not likely we'll see another one of these...</td>\n",
              "      <td>28/01/2022</td>\n",
              "      <td>0.7</td>\n",
              "    </tr>\n",
              "  </tbody>\n",
              "</table>\n",
              "</div>"
            ],
            "text/plain": [
              "   Unnamed: 0                              Movie          Reviewer  \\\n",
              "0           0  HOTEL TRANSYLVANIA: TRANSFORMANIA     James Luxford   \n",
              "1           1  HOTEL TRANSYLVANIA: TRANSFORMANIA        Mat Brunet   \n",
              "2           2  HOTEL TRANSYLVANIA: TRANSFORMANIA      Robert Levin   \n",
              "3           3  HOTEL TRANSYLVANIA: TRANSFORMANIA  Jackie K. Cooper   \n",
              "4           4  HOTEL TRANSYLVANIA: TRANSFORMANIA     Asher Luberto   \n",
              "\n",
              "                     Publish  \\\n",
              "0                    City AM   \n",
              "1  AniMat's Review (YouTube)   \n",
              "2                    Newsday   \n",
              "3          jackiekcooper.com   \n",
              "4               The Playlist   \n",
              "\n",
              "                                              Review        Date  Score  \n",
              "0  I guess its always been hard for me to see the...  03/03/2022    0.4  \n",
              "1  Hotel Transylvania: Transformania is a present...  15/02/2022    0.3  \n",
              "2  The conceit still works well enough to mostly ...  29/01/2022    0.8  \n",
              "3  No Adam Sandler this time out, but the animate...  28/01/2022    0.6  \n",
              "4  It's not likely we'll see another one of these...  28/01/2022    0.7  "
            ]
          },
          "execution_count": 12,
          "metadata": {},
          "output_type": "execute_result"
        }
      ],
      "source": [
        "df[\"Score\"] = df[\"Score\"].round(-1) / 100\n",
        "df.head()"
      ]
    },
    {
      "cell_type": "code",
      "execution_count": 13,
      "metadata": {
        "colab": {
          "base_uri": "https://localhost:8080/",
          "height": 653
        },
        "id": "PKnims-NNiCu",
        "outputId": "bb4372d8-14bc-456e-fa60-f0923f5d23f1"
      },
      "outputs": [
        {
          "name": "stdout",
          "output_type": "stream",
          "text": [
            "Score\n",
            "0.0      1664\n",
            "0.1      2241\n",
            "0.2     16439\n",
            "0.3      6155\n",
            "0.4     44501\n",
            "0.5     41593\n",
            "0.6     90057\n",
            "0.7     42454\n",
            "0.8    114924\n",
            "0.9     37632\n",
            "1.0     19398\n",
            "Name: count, dtype: int64\n"
          ]
        },
        {
          "data": {
            "image/png": "[encoded data removed]",
            "text/plain": [
              "<Figure size 640x480 with 1 Axes>"
            ]
          },
          "metadata": {},
          "output_type": "display_data"
        }
      ],
      "source": [
        "dd = df[\"Score\"].value_counts().sort_index()\n",
        "dd_indexes = np.array(dd.index.tolist())\n",
        "sns.barplot(x=dd_indexes, y=dd)\n",
        "print(dd)"
      ]
    },
    {
      "cell_type": "code",
      "execution_count": 14,
      "metadata": {
        "colab": {
          "base_uri": "https://localhost:8080/",
          "height": 448
        },
        "id": "p9NxrojpNyNW",
        "outputId": "f68ca111-261f-4eab-de51-30e657b4a334"
      },
      "outputs": [
        {
          "data": {
            "text/plain": [
              "<Axes: ylabel='count'>"
            ]
          },
          "execution_count": 14,
          "metadata": {},
          "output_type": "execute_result"
        },
        {
          "data": {
            "image/png": "[encoded data removed]",
            "text/plain": [
              "<Figure size 640x480 with 1 Axes>"
            ]
          },
          "metadata": {},
          "output_type": "display_data"
        }
      ],
      "source": [
        "positive_reviews_slice = df[df.Score >= 0.9]\n",
        "negative_reviews_slice = df[df.Score <= 0.4]\n",
        "\n",
        "# Resample them to 50k samples each for balance\n",
        "positive_reviews_slice = resample(\n",
        "    positive_reviews_slice, replace=False, n_samples=50000, random_state=123\n",
        ")\n",
        "negative_reviews_slice = resample(\n",
        "    negative_reviews_slice, replace=False, n_samples=50000, random_state=123\n",
        ")\n",
        "\n",
        "dd_slice = pd.concat([positive_reviews_slice, negative_reviews_slice])\n",
        "dd_slice[\"Score\"] = np.where(dd_slice[\"Score\"] <= 0.4, \"negative\", \"positive\")\n",
        "\n",
        "dd_slice_indexes = np.array(dd_slice[\"Score\"].value_counts().index.tolist())\n",
        "sns.barplot(x=dd_slice_indexes, y=dd_slice[\"Score\"].value_counts())"
      ]
    },
    {
      "cell_type": "code",
      "execution_count": 15,
      "metadata": {
        "colab": {
          "base_uri": "https://localhost:8080/",
          "height": 384
        },
        "id": "V8YfIjb5OKVW",
        "outputId": "9737472b-092c-4647-e094-4ed6c2293416"
      },
      "outputs": [
        {
          "name": "stdout",
          "output_type": "stream",
          "text": [
            "\n",
            "Shape of the train data is (75000,)\n",
            "\n",
            "Shape of the test data is (25000,)\n"
          ]
        },
        {
          "data": {
            "text/html": [
              "<div>\n",
              "<style scoped>\n",
              "    .dataframe tbody tr th:only-of-type {\n",
              "        vertical-align: middle;\n",
              "    }\n",
              "\n",
              "    .dataframe tbody tr th {\n",
              "        vertical-align: top;\n",
              "    }\n",
              "\n",
              "    .dataframe thead th {\n",
              "        text-align: right;\n",
              "    }\n",
              "</style>\n",
              "<table border=\"1\" class=\"dataframe\">\n",
              "  <thead>\n",
              "    <tr style=\"text-align: right;\">\n",
              "      <th></th>\n",
              "      <th>Unnamed: 0</th>\n",
              "      <th>Movie</th>\n",
              "      <th>Reviewer</th>\n",
              "      <th>Publish</th>\n",
              "      <th>Review</th>\n",
              "      <th>Date</th>\n",
              "      <th>Score</th>\n",
              "    </tr>\n",
              "  </thead>\n",
              "  <tbody>\n",
              "    <tr>\n",
              "      <th>319931</th>\n",
              "      <td>320963</td>\n",
              "      <td>MONEYBALL</td>\n",
              "      <td>Michael Phillips</td>\n",
              "      <td>Chicago Tribune</td>\n",
              "      <td>Everything in Beane's story and in \"Moneyball\"...</td>\n",
              "      <td>22/09/2011</td>\n",
              "      <td>positive</td>\n",
              "    </tr>\n",
              "    <tr>\n",
              "      <th>384687</th>\n",
              "      <td>387491</td>\n",
              "      <td>A CHRISTMAS TALE</td>\n",
              "      <td>Jeff Shannon</td>\n",
              "      <td>Seattle Times</td>\n",
              "      <td>There are simply too many marvels to tally.</td>\n",
              "      <td>21/11/2008</td>\n",
              "      <td>positive</td>\n",
              "    </tr>\n",
              "    <tr>\n",
              "      <th>180858</th>\n",
              "      <td>181010</td>\n",
              "      <td>EDEN</td>\n",
              "      <td>Scott Renshaw</td>\n",
              "      <td>Salt Lake City Weekly</td>\n",
              "      <td>Eden winds and meanders through its 21-year co...</td>\n",
              "      <td>10/07/2015</td>\n",
              "      <td>positive</td>\n",
              "    </tr>\n",
              "    <tr>\n",
              "      <th>101059</th>\n",
              "      <td>101111</td>\n",
              "      <td>PHANTOM THREAD</td>\n",
              "      <td>Brad Keefe</td>\n",
              "      <td>Columbus Alive</td>\n",
              "      <td>As anyone would expect, Day-Lewis gives a perf...</td>\n",
              "      <td>25/01/2018</td>\n",
              "      <td>positive</td>\n",
              "    </tr>\n",
              "    <tr>\n",
              "      <th>246616</th>\n",
              "      <td>246960</td>\n",
              "      <td>12 YEARS A SLAVE</td>\n",
              "      <td>Steven Rea</td>\n",
              "      <td>Philadelphia Inquirer</td>\n",
              "      <td>It speaks to the courage and resilience of one...</td>\n",
              "      <td>13/01/2015</td>\n",
              "      <td>positive</td>\n",
              "    </tr>\n",
              "  </tbody>\n",
              "</table>\n",
              "</div>"
            ],
            "text/plain": [
              "        Unnamed: 0             Movie          Reviewer                Publish  \\\n",
              "319931      320963         MONEYBALL  Michael Phillips        Chicago Tribune   \n",
              "384687      387491  A CHRISTMAS TALE      Jeff Shannon          Seattle Times   \n",
              "180858      181010              EDEN     Scott Renshaw  Salt Lake City Weekly   \n",
              "101059      101111    PHANTOM THREAD        Brad Keefe         Columbus Alive   \n",
              "246616      246960  12 YEARS A SLAVE        Steven Rea  Philadelphia Inquirer   \n",
              "\n",
              "                                                   Review        Date  \\\n",
              "319931  Everything in Beane's story and in \"Moneyball\"...  22/09/2011   \n",
              "384687        There are simply too many marvels to tally.  21/11/2008   \n",
              "180858  Eden winds and meanders through its 21-year co...  10/07/2015   \n",
              "101059  As anyone would expect, Day-Lewis gives a perf...  25/01/2018   \n",
              "246616  It speaks to the courage and resilience of one...  13/01/2015   \n",
              "\n",
              "           Score  \n",
              "319931  positive  \n",
              "384687  positive  \n",
              "180858  positive  \n",
              "101059  positive  \n",
              "246616  positive  "
            ]
          },
          "execution_count": 15,
          "metadata": {},
          "output_type": "execute_result"
        }
      ],
      "source": [
        "df = dd_slice\n",
        "\n",
        "X, y = df[\"Review\"].values, df[\"Score\"].values\n",
        "x_train, x_test, y_train, y_test = train_test_split(X, y, stratify=y)\n",
        "\n",
        "print(f\"\\nShape of the train data is {x_train.shape}\")\n",
        "print(f\"\\nShape of the test data is {x_test.shape}\")\n",
        "df.head()"
      ]
    },
    {
      "cell_type": "code",
      "execution_count": 21,
      "metadata": {
        "id": "oB_HrZHVOWni"
      },
      "outputs": [],
      "source": [
        "def preprocess_string(s):\n",
        "    s = re.sub(r\"[^\\w\\s]\", \"\", s)\n",
        "    s = re.sub(r\"\\s+\", \"\", s)\n",
        "    s = re.sub(r\"\\d\", \"\", s)\n",
        "\n",
        "    return s\n",
        "\n",
        "\n",
        "def tokenize(x_train,y_train,x_val,y_val):\n",
        "    # load pre-trained word vectors\n",
        "    glove = vocab.GloVe(name='6B', dim=100)\n",
        "\n",
        "    # tokenize and encode sentences\n",
        "    final_list_train, final_list_test = [], []\n",
        "    for sent in x_train:\n",
        "        encoded_sent = []\n",
        "        for word in sent.lower().split():\n",
        "            word = preprocess_string(word)\n",
        "            if word in glove.stoi:\n",
        "                encoded_sent.append(glove.stoi[word])\n",
        "        final_list_train.append(encoded_sent)\n",
        "\n",
        "    for sent in x_val:\n",
        "        encoded_sent = []\n",
        "        for word in sent.lower().split():\n",
        "            word = preprocess_string(word)\n",
        "            if word in glove.stoi:\n",
        "                encoded_sent.append(glove.stoi[word])\n",
        "        final_list_test.append(encoded_sent)\n",
        "\n",
        "    encoded_train = [1 if label =='positive' else 0 for label in y_train]\n",
        "    encoded_test = [1 if label =='positive' else 0 for label in y_val]\n",
        "    return np.array(final_list_train, dtype=object), np.array(encoded_train), np.array(final_list_test, dtype=object), np.array(encoded_test), glove.stoi"
      ]
    },
    {
      "cell_type": "code",
      "execution_count": null,
      "metadata": {
        "colab": {
          "base_uri": "https://localhost:8080/"
        },
        "id": "0evwAuHOOqiP",
        "outputId": "09bd6f14-eac2-45d6-f9c6-1bea6094c01e"
      },
      "outputs": [],
      "source": [
        "x_train, y_train, x_test, y_test, vocab = tokenize(x_train, y_train, x_test, y_test)"
      ]
    },
    {
      "cell_type": "code",
      "execution_count": 12,
      "metadata": {
        "colab": {
          "base_uri": "https://localhost:8080/"
        },
        "id": "oSBYgyR5OxXw",
        "outputId": "bd578696-3475-47dc-a6c2-9cc3ffa780d2"
      },
      "outputs": [
        {
          "name": "stdout",
          "output_type": "stream",
          "text": [
            "\n",
            "Length of vocabulary is 400000\n"
          ]
        }
      ],
      "source": [
        "print(f\"\\nLength of vocabulary is {len(vocab)}\")"
      ]
    },
    {
      "cell_type": "code",
      "execution_count": 13,
      "metadata": {
        "colab": {
          "base_uri": "https://localhost:8080/",
          "height": 595
        },
        "id": "YHqgTrC8O2xF",
        "outputId": "a1f633f0-207a-4c4c-82ae-8b324e71cfdd"
      },
      "outputs": [
        {
          "data": {
            "image/png": "[encoded data removed]",
            "text/plain": [
              "<Figure size 640x480 with 1 Axes>"
            ]
          },
          "metadata": {},
          "output_type": "display_data"
        },
        {
          "data": {
            "text/plain": [
              "count    75000.000000\n",
              "mean        21.403227\n",
              "std          9.370613\n",
              "min          0.000000\n",
              "25%         14.000000\n",
              "50%         21.000000\n",
              "75%         28.000000\n",
              "max         52.000000\n",
              "dtype: float64"
            ]
          },
          "execution_count": 13,
          "metadata": {},
          "output_type": "execute_result"
        }
      ],
      "source": [
        "rev_len = [len(i) for i in x_train]\n",
        "pd.Series(rev_len).hist()\n",
        "plt.show()\n",
        "pd.Series(rev_len).describe()"
      ]
    },
    {
      "cell_type": "code",
      "execution_count": 14,
      "metadata": {
        "id": "svKSoTiGO3by"
      },
      "outputs": [],
      "source": [
        "def padding_(sentences, seq_len):\n",
        "    features = np.zeros((len(sentences), seq_len), dtype=int)\n",
        "    for ii, review in enumerate(sentences):\n",
        "        if len(review) != 0:\n",
        "            features[ii, -len(review) :] = np.array(review)[:seq_len]\n",
        "    return features"
      ]
    },
    {
      "cell_type": "code",
      "execution_count": 15,
      "metadata": {
        "id": "EHoUN-5BO6lu"
      },
      "outputs": [],
      "source": [
        "x_train_pad = padding_(x_train, 52)\n",
        "x_test_pad = padding_(x_test, 52)"
      ]
    },
    {
      "cell_type": "code",
      "execution_count": 16,
      "metadata": {
        "id": "zZEcqV8KO85H"
      },
      "outputs": [],
      "source": [
        "# Create Tensor datasets\n",
        "train_data = TensorDataset(torch.from_numpy(x_train_pad), torch.from_numpy(y_train))\n",
        "valid_data = TensorDataset(torch.from_numpy(x_test_pad), torch.from_numpy(y_test))\n",
        "\n",
        "# Dataloaders\n",
        "batch_size = 50\n",
        "\n",
        "train_loader = DataLoader(\n",
        "    train_data, shuffle=True, batch_size=batch_size, drop_last=True\n",
        ")\n",
        "valid_loader = DataLoader(\n",
        "    valid_data, shuffle=True, batch_size=batch_size, drop_last=True\n",
        ")"
      ]
    },
    {
      "cell_type": "code",
      "execution_count": 17,
      "metadata": {
        "colab": {
          "base_uri": "https://localhost:8080/"
        },
        "id": "ORhH1nSWPACX",
        "outputId": "4f13ffbe-993c-40c8-ce60-41e94c886a0a"
      },
      "outputs": [
        {
          "name": "stdout",
          "output_type": "stream",
          "text": [
            "Sample input size:  torch.Size([50, 52])\n",
            "Sample input: \n",
            " tensor([[    0,     0,     0,  ...,     7, 87543, 44353],\n",
            "        [    0,     0,     0,  ...,    47,    96, 24475],\n",
            "        [    0,     0,     0,  ...,    12,    20,  5487],\n",
            "        ...,\n",
            "        [    0,     0,     0,  ..., 70151,     5, 52720],\n",
            "        [    0,     0,     0,  ...,    73,     7, 16035],\n",
            "        [    0,     0,     0,  ...,  1942,     3, 51404]])\n",
            "Sample input: \n",
            " tensor([0, 0, 1, 0, 1, 1, 0, 1, 0, 1, 0, 0, 0, 1, 0, 0, 0, 1, 0, 1, 1, 1, 0, 1,\n",
            "        0, 1, 1, 0, 1, 0, 1, 0, 1, 0, 0, 1, 1, 1, 1, 1, 0, 0, 0, 0, 1, 0, 0, 1,\n",
            "        0, 0])\n"
          ]
        }
      ],
      "source": [
        "dataiter = iter(train_loader)\n",
        "sample_x, sample_y = next(dataiter)\n",
        "\n",
        "print(\"Sample input size: \", sample_x.size())\n",
        "print(\"Sample input: \\n\", sample_x)\n",
        "print(\"Sample input: \\n\", sample_y)"
      ]
    },
    {
      "cell_type": "code",
      "execution_count": 18,
      "metadata": {
        "id": "xcp80v1iPCON"
      },
      "outputs": [],
      "source": [
        "class SentimentRNN(nn.Module):\n",
        "    def __init__(\n",
        "        self,\n",
        "        no_layers,\n",
        "        vocab_size,\n",
        "        hidden_dim,\n",
        "        embedding_dim,\n",
        "        drop_prob=0.5,\n",
        "        bidirectional=False,\n",
        "    ):\n",
        "        super(SentimentRNN, self).__init__()\n",
        "\n",
        "        self.output_dim = output_dim\n",
        "        self.hidden_dim = hidden_dim\n",
        "\n",
        "        self.no_layers = no_layers\n",
        "        self.vocab_size = vocab_size\n",
        "\n",
        "        # embedding and LSTM layers\n",
        "        self.embedding = nn.Embedding(vocab_size, embedding_dim)\n",
        "\n",
        "        # lstm\n",
        "        self.lstm = nn.LSTM(\n",
        "            input_size=embedding_dim,\n",
        "            hidden_size=self.hidden_dim,\n",
        "            num_layers=no_layers,\n",
        "            batch_first=True,\n",
        "        )\n",
        "\n",
        "        # dropout layer\n",
        "        self.dropout = nn.Dropout(0.3)\n",
        "\n",
        "        # linear and sigmoid layer\n",
        "        self.fc = nn.Linear(self.hidden_dim, output_dim)\n",
        "        self.sig = nn.Sigmoid()\n",
        "\n",
        "    def forward(self, x, hidden):\n",
        "        batch_size = x.size(0)\n",
        "\n",
        "        # embeddings and lstm_out\n",
        "        embeds = self.embedding(x)\n",
        "        lstm_out, hidden = self.lstm(embeds, hidden)\n",
        "\n",
        "        lstm_out = lstm_out.contiguous().view(-1, self.hidden_dim)\n",
        "\n",
        "        # dropout and fully connected layer\n",
        "        out = self.dropout(lstm_out)\n",
        "        out = self.fc(out)\n",
        "\n",
        "        # sigmoid function\n",
        "        sig_out = self.sig(out)\n",
        "\n",
        "        # reshape to be batch_size first\n",
        "        sig_out = sig_out.view(batch_size, -1)\n",
        "\n",
        "        sig_out = sig_out[:, -1]  # get last batch of labels\n",
        "\n",
        "        # return last sigmoid output and hidden state\n",
        "        return sig_out, hidden\n",
        "\n",
        "    def init_hidden(self, batch_size):\n",
        "        # Create two new tensors with sizes n_layers x batch_size x hidden_dim,\n",
        "        # initialized to zero, for hidden state and cell state of LSTM\n",
        "        h0 = torch.zeros((self.no_layers, batch_size, self.hidden_dim)).to(device)\n",
        "        c0 = torch.zeros((self.no_layers, batch_size, self.hidden_dim)).to(device)\n",
        "        hidden = (h0, c0)\n",
        "        return hidden"
      ]
    },
    {
      "cell_type": "code",
      "execution_count": 19,
      "metadata": {
        "colab": {
          "base_uri": "https://localhost:8080/"
        },
        "id": "P_PYSxMLPGuw",
        "outputId": "a72f4fc6-9885-4992-d353-972bd4c57a39"
      },
      "outputs": [
        {
          "name": "stdout",
          "output_type": "stream",
          "text": [
            "SentimentRNN(\n",
            "  (embedding): Embedding(400001, 64)\n",
            "  (lstm): LSTM(64, 256, num_layers=2, batch_first=True)\n",
            "  (dropout): Dropout(p=0.3, inplace=False)\n",
            "  (fc): Linear(in_features=256, out_features=1, bias=True)\n",
            "  (sig): Sigmoid()\n",
            ")\n"
          ]
        }
      ],
      "source": [
        "no_layers = 2\n",
        "vocab_size = len(vocab) + 1  # extra 1 for padding\n",
        "embedding_dim = 64\n",
        "output_dim = 1\n",
        "hidden_dim = 256\n",
        "\n",
        "model = SentimentRNN(\n",
        "    no_layers=no_layers,\n",
        "    vocab_size=vocab_size,\n",
        "    hidden_dim=hidden_dim,\n",
        "    embedding_dim=embedding_dim,\n",
        "    drop_prob=0.5,\n",
        ")\n",
        "\n",
        "# Moving to gpu\n",
        "model.to(device)\n",
        "\n",
        "print(model)"
      ]
    },
    {
      "cell_type": "code",
      "execution_count": 20,
      "metadata": {
        "id": "iMtZsoA2PJuc"
      },
      "outputs": [],
      "source": [
        "lr = 0.001\n",
        "\n",
        "criterion = nn.BCELoss()\n",
        "\n",
        "optimizer = torch.optim.Adam(model.parameters(), lr=lr)\n",
        "\n",
        "\n",
        "# Function to predict accuracy\n",
        "def acc(pred, label):\n",
        "    pred = torch.round(pred.squeeze())\n",
        "    return torch.sum(pred == label.squeeze()).item()"
      ]
    },
    {
      "cell_type": "code",
      "execution_count": 22,
      "metadata": {
        "id": "XMXROyLwWCW1"
      },
      "outputs": [],
      "source": [
        "import os"
      ]
    },
    {
      "cell_type": "code",
      "execution_count": 23,
      "metadata": {
        "colab": {
          "base_uri": "https://localhost:8080/"
        },
        "id": "V6xjyoZcPMBD",
        "outputId": "b48adf5a-c5d7-42c7-c77f-18782478e80b"
      },
      "outputs": [
        {
          "name": "stdout",
          "output_type": "stream",
          "text": [
            "Epoch 1\n",
            "train_loss : 0.3121897722631693 val_loss : 0.3361285789757967\n",
            "train_accuracy : 86.58133333333333 val_accuracy : 85.036\n",
            "Validation loss decreased (inf --> 0.336129).  Saving model ...\n",
            "==================================================\n",
            "Epoch 2\n",
            "train_loss : 0.22577684190124273 val_loss : 0.3315448680520058\n",
            "train_accuracy : 90.73733333333334 val_accuracy : 86.112\n",
            "Validation loss decreased (0.336129 --> 0.331545).  Saving model ...\n",
            "==================================================\n",
            "Epoch 3\n",
            "train_loss : 0.15529379893715184 val_loss : 0.36730658046901227\n",
            "train_accuracy : 94.00133333333333 val_accuracy : 86.10799999999999\n",
            "==================================================\n",
            "Epoch 4\n",
            "train_loss : 0.09214510838873684 val_loss : 0.45229915104806423\n",
            "train_accuracy : 96.596 val_accuracy : 85.88\n",
            "==================================================\n",
            "Epoch 5\n",
            "train_loss : 0.05029123119738264 val_loss : 0.578817652925849\n",
            "train_accuracy : 98.252 val_accuracy : 85.452\n",
            "==================================================\n"
          ]
        }
      ],
      "source": [
        "clip = 5\n",
        "epochs = 5\n",
        "valid_loss_min = np.Inf\n",
        "# train for some number of epochs\n",
        "epoch_tr_loss, epoch_vl_loss = [], []\n",
        "epoch_tr_acc, epoch_vl_acc = [], []\n",
        "\n",
        "for epoch in range(epochs):\n",
        "    train_losses = []\n",
        "    train_acc = 0.0\n",
        "    model.train()\n",
        "    # initialize hidden state\n",
        "    h = model.init_hidden(batch_size)\n",
        "    for inputs, labels in train_loader:\n",
        "        inputs, labels = inputs.to(device), labels.to(device)\n",
        "        # Creating new variables for the hidden state, otherwise\n",
        "        # we'd backprop through the entire training history\n",
        "        h = tuple([each.data for each in h])\n",
        "\n",
        "        model.zero_grad()\n",
        "        output, h = model(inputs, h)\n",
        "\n",
        "        # calculate the loss and perform backprop\n",
        "        loss = criterion(output.squeeze(), labels.float())\n",
        "        loss.backward()\n",
        "        train_losses.append(loss.item())\n",
        "        # calculating accuracy\n",
        "        accuracy = acc(output, labels)\n",
        "        train_acc += accuracy\n",
        "        # `clip_grad_norm` helps prevent the exploding gradient problem in RNNs / LSTMs.\n",
        "        nn.utils.clip_grad_norm_(model.parameters(), clip)\n",
        "        optimizer.step()\n",
        "\n",
        "    val_h = model.init_hidden(batch_size)\n",
        "    val_losses = []\n",
        "    val_acc = 0.0\n",
        "    model.eval()\n",
        "    for inputs, labels in valid_loader:\n",
        "        val_h = tuple([each.data for each in val_h])\n",
        "\n",
        "        inputs, labels = inputs.to(device), labels.to(device)\n",
        "\n",
        "        output, val_h = model(inputs, val_h)\n",
        "        val_loss = criterion(output.squeeze(), labels.float())\n",
        "\n",
        "        val_losses.append(val_loss.item())\n",
        "\n",
        "        accuracy = acc(output, labels)\n",
        "        val_acc += accuracy\n",
        "\n",
        "    epoch_train_loss = np.mean(train_losses)\n",
        "    epoch_val_loss = np.mean(val_losses)\n",
        "    epoch_train_acc = train_acc / len(train_loader.dataset)\n",
        "    epoch_val_acc = val_acc / len(valid_loader.dataset)\n",
        "    epoch_tr_loss.append(epoch_train_loss)\n",
        "    epoch_vl_loss.append(epoch_val_loss)\n",
        "    epoch_tr_acc.append(epoch_train_acc)\n",
        "    epoch_vl_acc.append(epoch_val_acc)\n",
        "    print(f\"Epoch {epoch+1}\")\n",
        "    print(f\"train_loss : {epoch_train_loss} val_loss : {epoch_val_loss}\")\n",
        "    print(f\"train_accuracy : {epoch_train_acc*100} val_accuracy : {epoch_val_acc*100}\")\n",
        "\n",
        "    if epoch_val_loss <= valid_loss_min:\n",
        "        os.makedirs(\"../working\", exist_ok=True)\n",
        "        torch.save(model.state_dict(), \"model.pt\")\n",
        "        print(\n",
        "            \"Validation loss decreased ({:.6f} --> {:.6f}).  Saving model ...\".format(\n",
        "                valid_loss_min, epoch_val_loss\n",
        "            )\n",
        "        )\n",
        "        valid_loss_min = epoch_val_loss\n",
        "    print(25 * \"==\")"
      ]
    },
    {
      "cell_type": "code",
      "execution_count": 24,
      "metadata": {
        "colab": {
          "base_uri": "https://localhost:8080/",
          "height": 354
        },
        "id": "s46OaJM0PPrs",
        "outputId": "f7f75ebc-068d-44d9-8b97-9b3b3e97ecfa"
      },
      "outputs": [
        {
          "data": {
            "image/png": "[encoded data removed]",
            "text/plain": [
              "<Figure size 2000x600 with 2 Axes>"
            ]
          },
          "metadata": {},
          "output_type": "display_data"
        }
      ],
      "source": [
        "fig = plt.figure(figsize = (20, 6))\n",
        "plt.subplot(1, 2, 1)\n",
        "plt.plot(epoch_tr_acc, label='Train Acc')\n",
        "plt.plot(epoch_vl_acc, label='Validation Acc')\n",
        "plt.title(\"Accuracy\")\n",
        "plt.legend()\n",
        "plt.grid()\n",
        "\n",
        "plt.subplot(1, 2, 2)\n",
        "plt.plot(epoch_tr_loss, label='Train loss')\n",
        "plt.plot(epoch_vl_loss, label='Validation loss')\n",
        "plt.title(\"Loss\")\n",
        "plt.legend()\n",
        "plt.grid()\n",
        "\n",
        "plt.show()"
      ]
    },
    {
      "cell_type": "code",
      "execution_count": 25,
      "metadata": {
        "id": "EMUth12YPSUc"
      },
      "outputs": [],
      "source": [
        "def predict_text(text):\n",
        "    word_seq = np.array(\n",
        "        [\n",
        "            vocab[preprocess_string(word)]\n",
        "            for word in text.split()\n",
        "            if preprocess_string(word) in vocab.keys()\n",
        "        ]\n",
        "    )\n",
        "    word_seq = np.expand_dims(word_seq, axis=0)\n",
        "    pad = torch.from_numpy(padding_(word_seq, 500))\n",
        "    inputs = pad.to(device)\n",
        "    batch_size = 1\n",
        "    h = model.init_hidden(batch_size)\n",
        "    h = tuple([each.data for each in h])\n",
        "    output, h = model(inputs, h)\n",
        "    return output.item()"
      ]
    },
    {
      "cell_type": "code",
      "execution_count": 26,
      "metadata": {
        "colab": {
          "base_uri": "https://localhost:8080/"
        },
        "id": "Ytd3mGyMPWYX",
        "outputId": "5fbb8c56-7ea1-48d1-8895-5151918e13ec"
      },
      "outputs": [
        {
          "name": "stdout",
          "output_type": "stream",
          "text": [
            "I really am appaled by the brokenness of this movie\n",
            "======================================================================\n",
            "Predicted sentiment is negative with a probability of 0.7012264728546143\n"
          ]
        }
      ],
      "source": [
        "test_str = \"I really am appaled by the brokenness of this movie\"\n",
        "print(test_str)\n",
        "print(\"=\" * 70)\n",
        "pro = predict_text(test_str)\n",
        "status = \"positive\" if pro >= 0.5 else \"negative\"\n",
        "pro = (1 - pro) if status == \"negative\" else pro\n",
        "print(f\"Predicted sentiment is {status} with a probability of {pro}\")"
      ]
    },
    {
      "cell_type": "code",
      "execution_count": 27,
      "metadata": {
        "id": "_BCa20hDYBEI"
      },
      "outputs": [],
      "source": [
        "import pickle\n",
        "\n",
        "# Save the vocabulary\n",
        "with open('../working/vocab.pkl', 'wb') as f:\n",
        "    pickle.dump(vocab, f)"
      ]
    },
    {
      "cell_type": "code",
      "execution_count": 28,
      "metadata": {
        "colab": {
          "base_uri": "https://localhost:8080/",
          "height": 17
        },
        "id": "D2OWkUxNZZNo",
        "outputId": "2a73fbe4-f9bf-4a4f-acad-3b8ad3780335"
      },
      "outputs": [
        {
          "data": {
            "application/javascript": "\n    async function download(id, filename, size) {\n      if (!google.colab.kernel.accessAllowed) {\n        return;\n      }\n      const div = document.createElement('div');\n      const label = document.createElement('label');\n      label.textContent = `Downloading \"${filename}\": `;\n      div.appendChild(label);\n      const progress = document.createElement('progress');\n      progress.max = size;\n      div.appendChild(progress);\n      document.body.appendChild(div);\n\n      const buffers = [];\n      let downloaded = 0;\n\n      const channel = await google.colab.kernel.comms.open(id);\n      // Send a message to notify the kernel that we're ready.\n      channel.send({})\n\n      for await (const message of channel.messages) {\n        // Send a message to notify the kernel that we're ready.\n        channel.send({})\n        if (message.buffers) {\n          for (const buffer of message.buffers) {\n            buffers.push(buffer);\n            downloaded += buffer.byteLength;\n            progress.value = downloaded;\n          }\n        }\n      }\n      const blob = new Blob(buffers, {type: 'application/binary'});\n      const a = document.createElement('a');\n      a.href = window.URL.createObjectURL(blob);\n      a.download = filename;\n      div.appendChild(a);\n      a.click();\n      div.remove();\n    }\n  ",
            "text/plain": [
              "<IPython.core.display.Javascript object>"
            ]
          },
          "metadata": {},
          "output_type": "display_data"
        },
        {
          "data": {
            "application/javascript": "download(\"download_e3f49fc6-ced2-4fd0-b739-359100abf6f3\", \"state_dict.pt\", 105827889)",
            "text/plain": [
              "<IPython.core.display.Javascript object>"
            ]
          },
          "metadata": {},
          "output_type": "display_data"
        },
        {
          "data": {
            "application/javascript": "\n    async function download(id, filename, size) {\n      if (!google.colab.kernel.accessAllowed) {\n        return;\n      }\n      const div = document.createElement('div');\n      const label = document.createElement('label');\n      label.textContent = `Downloading \"${filename}\": `;\n      div.appendChild(label);\n      const progress = document.createElement('progress');\n      progress.max = size;\n      div.appendChild(progress);\n      document.body.appendChild(div);\n\n      const buffers = [];\n      let downloaded = 0;\n\n      const channel = await google.colab.kernel.comms.open(id);\n      // Send a message to notify the kernel that we're ready.\n      channel.send({})\n\n      for await (const message of channel.messages) {\n        // Send a message to notify the kernel that we're ready.\n        channel.send({})\n        if (message.buffers) {\n          for (const buffer of message.buffers) {\n            buffers.push(buffer);\n            downloaded += buffer.byteLength;\n            progress.value = downloaded;\n          }\n        }\n      }\n      const blob = new Blob(buffers, {type: 'application/binary'});\n      const a = document.createElement('a');\n      a.href = window.URL.createObjectURL(blob);\n      a.download = filename;\n      div.appendChild(a);\n      a.click();\n      div.remove();\n    }\n  ",
            "text/plain": [
              "<IPython.core.display.Javascript object>"
            ]
          },
          "metadata": {},
          "output_type": "display_data"
        },
        {
          "data": {
            "application/javascript": "download(\"download_44607a6e-3d6a-4629-88c7-ea07294624ee\", \"vocab.pkl\", 6026781)",
            "text/plain": [
              "<IPython.core.display.Javascript object>"
            ]
          },
          "metadata": {},
          "output_type": "display_data"
        }
      ],
      "source": [
        "from google.colab import files\n",
        "\n",
        "# Download the files\n",
        "files.download(\"model.pt\")\n",
        "files.download(\"vocab.pkl\")"
      ]
    }
  ],
  "metadata": {
    "accelerator": "GPU",
    "colab": {
      "gpuType": "T4",
      "provenance": []
    },
    "kernelspec": {
      "display_name": "Python 3",
      "name": "python3"
    },
    "language_info": {
      "codemirror_mode": {
        "name": "ipython",
        "version": 3
      },
      "file_extension": ".py",
      "mimetype": "text/x-python",
      "name": "python",
      "nbconvert_exporter": "python",
      "pygments_lexer": "ipython3",
      "version": "3.11.1"
    }
  },
  "nbformat": 4,
  "nbformat_minor": 0
}
