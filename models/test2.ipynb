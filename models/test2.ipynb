{
 "cells": [
  {
   "cell_type": "code",
   "execution_count": 23,
   "metadata": {},
   "outputs": [],
   "source": [
    "import pandas as pd\n",
    "from math import sqrt\n",
    "\n",
    "movies_df = pd.read_csv(\"movies.csv\")\n",
    "ratings_df = pd.read_csv(\"ratings.csv\")\n",
    "\n",
    "\n",
    "movies_df['year'] = movies_df.title.str.extract('(\\(\\d\\d\\d\\d\\))', expand=False)\n",
    "movies_df['year'] = movies_df.year.str.extract('(\\d\\d\\d\\d)', expand=False)\n",
    "movies_df['title'] = movies_df.title.str.replace('(\\(\\d\\d\\d\\d\\))', '', regex=True)\n",
    "movies_df['title'] = movies_df['title'].apply(lambda x: x.strip())\n",
    "movies_df = movies_df.drop('genres', axis=1)\n",
    "\n",
    "ratings_df = ratings_df.drop('timestamp', axis=1)"
   ]
  },
  {
   "cell_type": "code",
   "execution_count": 24,
   "metadata": {},
   "outputs": [],
   "source": [
    "\n",
    "\n",
    "\n",
    "def get_user_input_dataframe( user_input):\n",
    "    input_movies = pd.DataFrame(user_input)\n",
    "    input_id = movies_df[movies_df['title'].isin(input_movies['title'].tolist())]\n",
    "    input_movies = pd.merge(input_id, input_movies)\n",
    "    input_movies = input_movies.drop('year', axis=1)\n",
    "    return input_movies\n",
    "\n",
    "def filter_user_subset( input_movies):\n",
    "    user_subset = ratings_df[ratings_df['movieId'].isin(input_movies['movieId'].tolist())]\n",
    "    return user_subset\n",
    "\n",
    "def calculate_pearson_correlation( user_subset_group, input_movies):\n",
    "    pearson_correlation_dict = {}\n",
    "\n",
    "    for name, group in user_subset_group:\n",
    "        group = group.sort_values(by='movieId')\n",
    "        input_movies_subset = input_movies[input_movies['movieId'].isin(group['movieId'].tolist())]\n",
    "\n",
    "        n_ratings = len(group)\n",
    "        temp_rating_list = input_movies_subset['rating'].tolist()\n",
    "        temp_group_list = group['rating'].tolist()\n",
    "\n",
    "        sxx = sum([i**2 for i in temp_rating_list]) - pow(sum(temp_rating_list), 2) / float(n_ratings)\n",
    "        syy = sum([i**2 for i in temp_group_list]) - pow(sum(temp_group_list), 2) / float(n_ratings)\n",
    "        sxy = sum(i*j for i, j in zip(temp_rating_list, temp_group_list)) - sum(temp_rating_list) * sum(temp_group_list) / float(n_ratings)\n",
    "\n",
    "        if sxx != 0 and syy != 0:\n",
    "            pearson_correlation_dict[name] = sxy / sqrt(sxx * syy)\n",
    "        else:\n",
    "            pearson_correlation_dict[name] = 0\n",
    "\n",
    "    return pd.DataFrame.from_dict(pearson_correlation_dict, orient='index')\n",
    "\n",
    "\n",
    "\n"
   ]
  },
  {
   "cell_type": "code",
   "execution_count": 25,
   "metadata": {},
   "outputs": [],
   "source": [
    "user_input = [\n",
    "    {'title': 'Avatar', 'rating': 4.5},\n",
    "    {'title': 'Matrix, The', 'rating':5},\n",
    "]"
   ]
  },
  {
   "cell_type": "code",
   "execution_count": 30,
   "metadata": {},
   "outputs": [
    {
     "ename": "ValueError",
     "evalue": "Length mismatch: Expected axis has 0 elements, new values have 1 elements",
     "output_type": "error",
     "traceback": [
      "\u001b[0;31m---------------------------------------------------------------------------\u001b[0m",
      "\u001b[0;31mValueError\u001b[0m                                Traceback (most recent call last)",
      "\u001b[1;32m/Users/mazdak/mah/nMovies/models/test2.ipynb Cell 4\u001b[0m line \u001b[0;36m6\n\u001b[1;32m      <a href='vscode-notebook-cell:/Users/mazdak/mah/nMovies/models/test2.ipynb#W1sZmlsZQ%3D%3D?line=2'>3</a>\u001b[0m user_subset_group \u001b[39m=\u001b[39m user_subset\u001b[39m.\u001b[39mgroupby([\u001b[39m'\u001b[39m\u001b[39muserId\u001b[39m\u001b[39m'\u001b[39m])\n\u001b[1;32m      <a href='vscode-notebook-cell:/Users/mazdak/mah/nMovies/models/test2.ipynb#W1sZmlsZQ%3D%3D?line=4'>5</a>\u001b[0m pearson_df \u001b[39m=\u001b[39m calculate_pearson_correlation(user_subset_group, input_movies)\n\u001b[0;32m----> <a href='vscode-notebook-cell:/Users/mazdak/mah/nMovies/models/test2.ipynb#W1sZmlsZQ%3D%3D?line=5'>6</a>\u001b[0m pearson_df\u001b[39m.\u001b[39;49mcolumns \u001b[39m=\u001b[39m [\u001b[39m'\u001b[39m\u001b[39msimilarityIndex\u001b[39m\u001b[39m'\u001b[39m]\n\u001b[1;32m      <a href='vscode-notebook-cell:/Users/mazdak/mah/nMovies/models/test2.ipynb#W1sZmlsZQ%3D%3D?line=7'>8</a>\u001b[0m pearson_df[\u001b[39m'\u001b[39m\u001b[39muserId\u001b[39m\u001b[39m'\u001b[39m] \u001b[39m=\u001b[39m pearson_df\u001b[39m.\u001b[39mindex\n\u001b[1;32m      <a href='vscode-notebook-cell:/Users/mazdak/mah/nMovies/models/test2.ipynb#W1sZmlsZQ%3D%3D?line=8'>9</a>\u001b[0m pearson_df\u001b[39m.\u001b[39mindex \u001b[39m=\u001b[39m \u001b[39mrange\u001b[39m(\u001b[39mlen\u001b[39m(pearson_df))\n",
      "File \u001b[0;32m/Library/Frameworks/Python.framework/Versions/3.11/lib/python3.11/site-packages/pandas/core/generic.py:6218\u001b[0m, in \u001b[0;36mNDFrame.__setattr__\u001b[0;34m(self, name, value)\u001b[0m\n\u001b[1;32m   6216\u001b[0m \u001b[39mtry\u001b[39;00m:\n\u001b[1;32m   6217\u001b[0m     \u001b[39mobject\u001b[39m\u001b[39m.\u001b[39m\u001b[39m__getattribute__\u001b[39m(\u001b[39mself\u001b[39m, name)\n\u001b[0;32m-> 6218\u001b[0m     \u001b[39mreturn\u001b[39;00m \u001b[39mobject\u001b[39;49m\u001b[39m.\u001b[39;49m\u001b[39m__setattr__\u001b[39;49m(\u001b[39mself\u001b[39;49m, name, value)\n\u001b[1;32m   6219\u001b[0m \u001b[39mexcept\u001b[39;00m \u001b[39mAttributeError\u001b[39;00m:\n\u001b[1;32m   6220\u001b[0m     \u001b[39mpass\u001b[39;00m\n",
      "File \u001b[0;32mproperties.pyx:69\u001b[0m, in \u001b[0;36mpandas._libs.properties.AxisProperty.__set__\u001b[0;34m()\u001b[0m\n",
      "File \u001b[0;32m/Library/Frameworks/Python.framework/Versions/3.11/lib/python3.11/site-packages/pandas/core/generic.py:767\u001b[0m, in \u001b[0;36mNDFrame._set_axis\u001b[0;34m(self, axis, labels)\u001b[0m\n\u001b[1;32m    762\u001b[0m \u001b[39m\u001b[39m\u001b[39m\"\"\"\u001b[39;00m\n\u001b[1;32m    763\u001b[0m \u001b[39mThis is called from the cython code when we set the `index` attribute\u001b[39;00m\n\u001b[1;32m    764\u001b[0m \u001b[39mdirectly, e.g. `series.index = [1, 2, 3]`.\u001b[39;00m\n\u001b[1;32m    765\u001b[0m \u001b[39m\"\"\"\u001b[39;00m\n\u001b[1;32m    766\u001b[0m labels \u001b[39m=\u001b[39m ensure_index(labels)\n\u001b[0;32m--> 767\u001b[0m \u001b[39mself\u001b[39;49m\u001b[39m.\u001b[39;49m_mgr\u001b[39m.\u001b[39;49mset_axis(axis, labels)\n\u001b[1;32m    768\u001b[0m \u001b[39mself\u001b[39m\u001b[39m.\u001b[39m_clear_item_cache()\n",
      "File \u001b[0;32m/Library/Frameworks/Python.framework/Versions/3.11/lib/python3.11/site-packages/pandas/core/internals/managers.py:227\u001b[0m, in \u001b[0;36mBaseBlockManager.set_axis\u001b[0;34m(self, axis, new_labels)\u001b[0m\n\u001b[1;32m    225\u001b[0m \u001b[39mdef\u001b[39;00m \u001b[39mset_axis\u001b[39m(\u001b[39mself\u001b[39m, axis: AxisInt, new_labels: Index) \u001b[39m-\u001b[39m\u001b[39m>\u001b[39m \u001b[39mNone\u001b[39;00m:\n\u001b[1;32m    226\u001b[0m     \u001b[39m# Caller is responsible for ensuring we have an Index object.\u001b[39;00m\n\u001b[0;32m--> 227\u001b[0m     \u001b[39mself\u001b[39;49m\u001b[39m.\u001b[39;49m_validate_set_axis(axis, new_labels)\n\u001b[1;32m    228\u001b[0m     \u001b[39mself\u001b[39m\u001b[39m.\u001b[39maxes[axis] \u001b[39m=\u001b[39m new_labels\n",
      "File \u001b[0;32m/Library/Frameworks/Python.framework/Versions/3.11/lib/python3.11/site-packages/pandas/core/internals/base.py:85\u001b[0m, in \u001b[0;36mDataManager._validate_set_axis\u001b[0;34m(self, axis, new_labels)\u001b[0m\n\u001b[1;32m     82\u001b[0m     \u001b[39mpass\u001b[39;00m\n\u001b[1;32m     84\u001b[0m \u001b[39melif\u001b[39;00m new_len \u001b[39m!=\u001b[39m old_len:\n\u001b[0;32m---> 85\u001b[0m     \u001b[39mraise\u001b[39;00m \u001b[39mValueError\u001b[39;00m(\n\u001b[1;32m     86\u001b[0m         \u001b[39mf\u001b[39m\u001b[39m\"\u001b[39m\u001b[39mLength mismatch: Expected axis has \u001b[39m\u001b[39m{\u001b[39;00mold_len\u001b[39m}\u001b[39;00m\u001b[39m elements, new \u001b[39m\u001b[39m\"\u001b[39m\n\u001b[1;32m     87\u001b[0m         \u001b[39mf\u001b[39m\u001b[39m\"\u001b[39m\u001b[39mvalues have \u001b[39m\u001b[39m{\u001b[39;00mnew_len\u001b[39m}\u001b[39;00m\u001b[39m elements\u001b[39m\u001b[39m\"\u001b[39m\n\u001b[1;32m     88\u001b[0m     )\n",
      "\u001b[0;31mValueError\u001b[0m: Length mismatch: Expected axis has 0 elements, new values have 1 elements"
     ]
    }
   ],
   "source": [
    "\n",
    "input_movies = pd.DataFrame(user_input)\n",
    "user_subset = ratings_df[ratings_df['movieId'].isin(input_movies['title'].tolist())]\n",
    "user_subset_group = user_subset.groupby(['userId'])\n",
    "\n",
    "pearson_df = calculate_pearson_correlation(user_subset_group, input_movies)\n",
    "pearson_df.columns = ['similarityIndex']\n",
    "\n",
    "pearson_df['userId'] = pearson_df.index\n",
    "pearson_df.index = range(len(pearson_df))\n",
    "\n",
    "print(pearson_df['userId'])\n",
    "\n",
    "# top_users = pearson_df.sort_values(by='similarityIndex', ascending=False).head(50)\n",
    "\n",
    "\n",
    "\n",
    "# top_users_rating = top_users.merge(ratings_df, left_on='userId', right_on='userId', how='inner')\n",
    "# top_users_rating['weightedRating'] = top_users_rating['similarityIndex'] * top_users_rating['rating']\n",
    "\n",
    "# temp_top_users_rating = top_users_rating.groupby('movieId').sum()[['similarityIndex', 'weightedRating']]\n",
    "# temp_top_users_rating.columns = ['sum_similarityIndex', 'sum_weightedRating']\n",
    "\n",
    "# recommendation_df = pd.DataFrame()\n",
    "# recommendation_df['weighted average recommendation score'] = temp_top_users_rating['sum_weightedRating'] / temp_top_users_rating['sum_similarityIndex']\n",
    "# recommendation_df['movieId'] = temp_top_users_rating.index\n",
    "\n",
    "# return recommendation_df.sort_values(by='weighted average recommendation score', ascending=False)\n"
   ]
  },
  {
   "cell_type": "code",
   "execution_count": 29,
   "metadata": {},
   "outputs": [
    {
     "data": {
      "text/plain": [
       "0              169\n",
       "1             2471\n",
       "2            48516\n",
       "3             2571\n",
       "4           109487\n",
       "             ...  \n",
       "22884372     49530\n",
       "22884373     69481\n",
       "22884374     74458\n",
       "22884375     76093\n",
       "22884376    130636\n",
       "Name: movieId, Length: 22884377, dtype: int64"
      ]
     },
     "execution_count": 29,
     "metadata": {},
     "output_type": "execute_result"
    }
   ],
   "source": [
    "ratings_df['movieId']"
   ]
  },
  {
   "cell_type": "code",
   "execution_count": null,
   "metadata": {},
   "outputs": [],
   "source": []
  }
 ],
 "metadata": {
  "kernelspec": {
   "display_name": "Python 3",
   "language": "python",
   "name": "python3"
  },
  "language_info": {
   "codemirror_mode": {
    "name": "ipython",
    "version": 3
   },
   "file_extension": ".py",
   "mimetype": "text/x-python",
   "name": "python",
   "nbconvert_exporter": "python",
   "pygments_lexer": "ipython3",
   "version": "3.11.1"
  }
 },
 "nbformat": 4,
 "nbformat_minor": 2
}
